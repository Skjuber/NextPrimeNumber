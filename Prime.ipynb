{
 "cells": [
  {
   "cell_type": "code",
   "execution_count": 1,
   "metadata": {},
   "outputs": [
    {
     "name": "stdout",
     "output_type": "stream",
     "text": [
      "Would you like to see the next prime? (Y/N) Y\n",
      "2\n",
      "Would you like to see the next prime? (Y/N) Y\n",
      "3\n",
      "Would you like to see the next prime? (Y/N) Y\n",
      "5\n",
      "Would you like to see the next prime? (Y/N) N\n"
     ]
    }
   ],
   "source": [
    "def isPrime(x):\n",
    "    \"\"\"\n",
    "    Checks whether the given\n",
    "    number x is prime or not\n",
    "    \"\"\"\n",
    "\n",
    "    if x == 2:\n",
    "        return True\n",
    "\n",
    "    if x % 2 == 0:\n",
    "        return False\n",
    "\n",
    "    for i in range(3, int(x**0.5)+1, 2):\n",
    "        if x % i == 0:\n",
    "            return False\n",
    "\n",
    "    return True\n",
    "\n",
    "\n",
    "def genPrime(currentPrime):\n",
    "    \"\"\"\n",
    "    Returns the next prime\n",
    "    after the currentPrime\n",
    "    \"\"\"\n",
    "\n",
    "    newPrime = currentPrime + 1\n",
    "\n",
    "    while True:\n",
    "\n",
    "        if not isPrime(newPrime):\n",
    "            newPrime += 1\n",
    "        else:\n",
    "            break\n",
    "\n",
    "    return newPrime\n",
    "\n",
    "\n",
    "def main():  # Wrapper function\n",
    "\n",
    "    currentPrime = 2\n",
    "\n",
    "    while True:\n",
    "\n",
    "        answer = input('Would you like to see the next prime? (Y/N) ')\n",
    "\n",
    "        if answer.lower().startswith('y'):\n",
    "            print(currentPrime)\n",
    "            currentPrime = genPrime(currentPrime)\n",
    "\n",
    "        else:\n",
    "            break\n",
    "\n",
    "if __name__ == '__main__':\n",
    "    main()"
   ]
  },
  {
   "cell_type": "code",
   "execution_count": null,
   "metadata": {},
   "outputs": [],
   "source": []
  }
 ],
 "metadata": {
  "kernelspec": {
   "display_name": "Python 3",
   "language": "python",
   "name": "python3"
  },
  "language_info": {
   "codemirror_mode": {
    "name": "ipython",
    "version": 3
   },
   "file_extension": ".py",
   "mimetype": "text/x-python",
   "name": "python",
   "nbconvert_exporter": "python",
   "pygments_lexer": "ipython3",
   "version": "3.8.5"
  }
 },
 "nbformat": 4,
 "nbformat_minor": 4
}
